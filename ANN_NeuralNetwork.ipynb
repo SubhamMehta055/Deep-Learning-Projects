{
 "cells": [
  {
   "cell_type": "code",
   "execution_count": 2,
   "id": "c2bb9a61-34b0-457b-b64e-8c5b22227997",
   "metadata": {},
   "outputs": [
    {
     "name": "stdout",
     "output_type": "stream",
     "text": [
      "Requirement already satisfied: tensorflow in c:\\users\\subham.mehta\\appdata\\local\\anaconda3\\lib\\site-packages (2.17.0)\n",
      "Requirement already satisfied: tensorflow-intel==2.17.0 in c:\\users\\subham.mehta\\appdata\\local\\anaconda3\\lib\\site-packages (from tensorflow) (2.17.0)\n",
      "Requirement already satisfied: absl-py>=1.0.0 in c:\\users\\subham.mehta\\appdata\\local\\anaconda3\\lib\\site-packages (from tensorflow-intel==2.17.0->tensorflow) (2.1.0)\n",
      "Requirement already satisfied: astunparse>=1.6.0 in c:\\users\\subham.mehta\\appdata\\local\\anaconda3\\lib\\site-packages (from tensorflow-intel==2.17.0->tensorflow) (1.6.3)\n",
      "Requirement already satisfied: flatbuffers>=24.3.25 in c:\\users\\subham.mehta\\appdata\\local\\anaconda3\\lib\\site-packages (from tensorflow-intel==2.17.0->tensorflow) (24.3.25)\n",
      "Requirement already satisfied: gast!=0.5.0,!=0.5.1,!=0.5.2,>=0.2.1 in c:\\users\\subham.mehta\\appdata\\local\\anaconda3\\lib\\site-packages (from tensorflow-intel==2.17.0->tensorflow) (0.6.0)\n",
      "Requirement already satisfied: google-pasta>=0.1.1 in c:\\users\\subham.mehta\\appdata\\local\\anaconda3\\lib\\site-packages (from tensorflow-intel==2.17.0->tensorflow) (0.2.0)\n",
      "Requirement already satisfied: h5py>=3.10.0 in c:\\users\\subham.mehta\\appdata\\local\\anaconda3\\lib\\site-packages (from tensorflow-intel==2.17.0->tensorflow) (3.11.0)\n",
      "Requirement already satisfied: libclang>=13.0.0 in c:\\users\\subham.mehta\\appdata\\local\\anaconda3\\lib\\site-packages (from tensorflow-intel==2.17.0->tensorflow) (18.1.1)\n",
      "Requirement already satisfied: ml-dtypes<0.5.0,>=0.3.1 in c:\\users\\subham.mehta\\appdata\\local\\anaconda3\\lib\\site-packages (from tensorflow-intel==2.17.0->tensorflow) (0.4.1)\n",
      "Requirement already satisfied: opt-einsum>=2.3.2 in c:\\users\\subham.mehta\\appdata\\local\\anaconda3\\lib\\site-packages (from tensorflow-intel==2.17.0->tensorflow) (3.3.0)\n",
      "Requirement already satisfied: packaging in c:\\users\\subham.mehta\\appdata\\local\\anaconda3\\lib\\site-packages (from tensorflow-intel==2.17.0->tensorflow) (23.2)\n",
      "Requirement already satisfied: protobuf!=4.21.0,!=4.21.1,!=4.21.2,!=4.21.3,!=4.21.4,!=4.21.5,<5.0.0dev,>=3.20.3 in c:\\users\\subham.mehta\\appdata\\local\\anaconda3\\lib\\site-packages (from tensorflow-intel==2.17.0->tensorflow) (3.20.3)\n",
      "Requirement already satisfied: requests<3,>=2.21.0 in c:\\users\\subham.mehta\\appdata\\local\\anaconda3\\lib\\site-packages (from tensorflow-intel==2.17.0->tensorflow) (2.32.2)\n",
      "Requirement already satisfied: setuptools in c:\\users\\subham.mehta\\appdata\\local\\anaconda3\\lib\\site-packages (from tensorflow-intel==2.17.0->tensorflow) (69.5.1)\n",
      "Requirement already satisfied: six>=1.12.0 in c:\\users\\subham.mehta\\appdata\\local\\anaconda3\\lib\\site-packages (from tensorflow-intel==2.17.0->tensorflow) (1.16.0)\n",
      "Requirement already satisfied: termcolor>=1.1.0 in c:\\users\\subham.mehta\\appdata\\local\\anaconda3\\lib\\site-packages (from tensorflow-intel==2.17.0->tensorflow) (2.4.0)\n",
      "Requirement already satisfied: typing-extensions>=3.6.6 in c:\\users\\subham.mehta\\appdata\\local\\anaconda3\\lib\\site-packages (from tensorflow-intel==2.17.0->tensorflow) (4.11.0)\n",
      "Requirement already satisfied: wrapt>=1.11.0 in c:\\users\\subham.mehta\\appdata\\local\\anaconda3\\lib\\site-packages (from tensorflow-intel==2.17.0->tensorflow) (1.14.1)\n",
      "Requirement already satisfied: grpcio<2.0,>=1.24.3 in c:\\users\\subham.mehta\\appdata\\local\\anaconda3\\lib\\site-packages (from tensorflow-intel==2.17.0->tensorflow) (1.66.1)\n",
      "Requirement already satisfied: tensorboard<2.18,>=2.17 in c:\\users\\subham.mehta\\appdata\\local\\anaconda3\\lib\\site-packages (from tensorflow-intel==2.17.0->tensorflow) (2.17.1)\n",
      "Requirement already satisfied: keras>=3.2.0 in c:\\users\\subham.mehta\\appdata\\local\\anaconda3\\lib\\site-packages (from tensorflow-intel==2.17.0->tensorflow) (3.5.0)\n",
      "Requirement already satisfied: numpy<2.0.0,>=1.26.0 in c:\\users\\subham.mehta\\appdata\\local\\anaconda3\\lib\\site-packages (from tensorflow-intel==2.17.0->tensorflow) (1.26.4)\n",
      "Requirement already satisfied: wheel<1.0,>=0.23.0 in c:\\users\\subham.mehta\\appdata\\local\\anaconda3\\lib\\site-packages (from astunparse>=1.6.0->tensorflow-intel==2.17.0->tensorflow) (0.43.0)\n",
      "Requirement already satisfied: rich in c:\\users\\subham.mehta\\appdata\\local\\anaconda3\\lib\\site-packages (from keras>=3.2.0->tensorflow-intel==2.17.0->tensorflow) (13.3.5)\n",
      "Requirement already satisfied: namex in c:\\users\\subham.mehta\\appdata\\local\\anaconda3\\lib\\site-packages (from keras>=3.2.0->tensorflow-intel==2.17.0->tensorflow) (0.0.8)\n",
      "Requirement already satisfied: optree in c:\\users\\subham.mehta\\appdata\\local\\anaconda3\\lib\\site-packages (from keras>=3.2.0->tensorflow-intel==2.17.0->tensorflow) (0.12.1)\n",
      "Requirement already satisfied: charset-normalizer<4,>=2 in c:\\users\\subham.mehta\\appdata\\local\\anaconda3\\lib\\site-packages (from requests<3,>=2.21.0->tensorflow-intel==2.17.0->tensorflow) (2.0.4)\n",
      "Requirement already satisfied: idna<4,>=2.5 in c:\\users\\subham.mehta\\appdata\\local\\anaconda3\\lib\\site-packages (from requests<3,>=2.21.0->tensorflow-intel==2.17.0->tensorflow) (3.7)\n",
      "Requirement already satisfied: urllib3<3,>=1.21.1 in c:\\users\\subham.mehta\\appdata\\local\\anaconda3\\lib\\site-packages (from requests<3,>=2.21.0->tensorflow-intel==2.17.0->tensorflow) (2.2.2)\n",
      "Requirement already satisfied: certifi>=2017.4.17 in c:\\users\\subham.mehta\\appdata\\local\\anaconda3\\lib\\site-packages (from requests<3,>=2.21.0->tensorflow-intel==2.17.0->tensorflow) (2024.7.4)\n",
      "Requirement already satisfied: markdown>=2.6.8 in c:\\users\\subham.mehta\\appdata\\local\\anaconda3\\lib\\site-packages (from tensorboard<2.18,>=2.17->tensorflow-intel==2.17.0->tensorflow) (3.4.1)\n",
      "Requirement already satisfied: tensorboard-data-server<0.8.0,>=0.7.0 in c:\\users\\subham.mehta\\appdata\\local\\anaconda3\\lib\\site-packages (from tensorboard<2.18,>=2.17->tensorflow-intel==2.17.0->tensorflow) (0.7.2)\n",
      "Requirement already satisfied: werkzeug>=1.0.1 in c:\\users\\subham.mehta\\appdata\\local\\anaconda3\\lib\\site-packages (from tensorboard<2.18,>=2.17->tensorflow-intel==2.17.0->tensorflow) (3.0.3)\n",
      "Requirement already satisfied: MarkupSafe>=2.1.1 in c:\\users\\subham.mehta\\appdata\\local\\anaconda3\\lib\\site-packages (from werkzeug>=1.0.1->tensorboard<2.18,>=2.17->tensorflow-intel==2.17.0->tensorflow) (2.1.3)\n",
      "Requirement already satisfied: markdown-it-py<3.0.0,>=2.2.0 in c:\\users\\subham.mehta\\appdata\\local\\anaconda3\\lib\\site-packages (from rich->keras>=3.2.0->tensorflow-intel==2.17.0->tensorflow) (2.2.0)\n",
      "Requirement already satisfied: pygments<3.0.0,>=2.13.0 in c:\\users\\subham.mehta\\appdata\\local\\anaconda3\\lib\\site-packages (from rich->keras>=3.2.0->tensorflow-intel==2.17.0->tensorflow) (2.15.1)\n",
      "Requirement already satisfied: mdurl~=0.1 in c:\\users\\subham.mehta\\appdata\\local\\anaconda3\\lib\\site-packages (from markdown-it-py<3.0.0,>=2.2.0->rich->keras>=3.2.0->tensorflow-intel==2.17.0->tensorflow) (0.1.0)\n"
     ]
    }
   ],
   "source": [
    "!pip install tensorflow"
   ]
  },
  {
   "cell_type": "code",
   "execution_count": null,
   "id": "5df652fd-d783-4c1f-a777-04d2b9f143a7",
   "metadata": {},
   "outputs": [],
   "source": []
  },
  {
   "cell_type": "code",
   "execution_count": 3,
   "id": "c02c57e5-f741-4fd3-8076-298f7e975f10",
   "metadata": {},
   "outputs": [],
   "source": [
    "import tensorflow as tf"
   ]
  },
  {
   "cell_type": "code",
   "execution_count": 4,
   "id": "71d4a832-5d6d-4db1-a7c9-cbe314ed7660",
   "metadata": {},
   "outputs": [
    {
     "name": "stdout",
     "output_type": "stream",
     "text": [
      "2.17.0\n"
     ]
    }
   ],
   "source": [
    "print(tf.__version__)"
   ]
  },
  {
   "cell_type": "code",
   "execution_count": 5,
   "id": "0c053c0a-8362-42e7-8dd0-05c1a81e8882",
   "metadata": {},
   "outputs": [],
   "source": [
    "import numpy as np\n",
    "import matplotlib.pyplot as plt\n",
    "import pandas as pd"
   ]
  },
  {
   "cell_type": "code",
   "execution_count": 6,
   "id": "9b943ee2-60c1-424f-9675-2f06209eb432",
   "metadata": {},
   "outputs": [],
   "source": [
    "dataset = pd.read_csv('Churn_Modelling.csv')"
   ]
  },
  {
   "cell_type": "code",
   "execution_count": 7,
   "id": "ee25f529-796f-4da4-bd17-85893491caaf",
   "metadata": {},
   "outputs": [
    {
     "data": {
      "text/plain": [
       "(10000, 14)"
      ]
     },
     "execution_count": 7,
     "metadata": {},
     "output_type": "execute_result"
    }
   ],
   "source": [
    "dataset.shape"
   ]
  },
  {
   "cell_type": "code",
   "execution_count": 8,
   "id": "54760d3f-2c42-4b83-8395-5437a636729d",
   "metadata": {},
   "outputs": [
    {
     "name": "stdout",
     "output_type": "stream",
     "text": [
      "<class 'pandas.core.frame.DataFrame'>\n",
      "RangeIndex: 10000 entries, 0 to 9999\n",
      "Data columns (total 14 columns):\n",
      " #   Column           Non-Null Count  Dtype  \n",
      "---  ------           --------------  -----  \n",
      " 0   RowNumber        10000 non-null  int64  \n",
      " 1   CustomerId       10000 non-null  int64  \n",
      " 2   Surname          10000 non-null  object \n",
      " 3   CreditScore      10000 non-null  int64  \n",
      " 4   Geography        10000 non-null  object \n",
      " 5   Gender           10000 non-null  object \n",
      " 6   Age              10000 non-null  int64  \n",
      " 7   Tenure           10000 non-null  int64  \n",
      " 8   Balance          10000 non-null  float64\n",
      " 9   NumOfProducts    10000 non-null  int64  \n",
      " 10  HasCrCard        10000 non-null  int64  \n",
      " 11  IsActiveMember   10000 non-null  int64  \n",
      " 12  EstimatedSalary  10000 non-null  float64\n",
      " 13  Exited           10000 non-null  int64  \n",
      "dtypes: float64(2), int64(9), object(3)\n",
      "memory usage: 1.1+ MB\n"
     ]
    }
   ],
   "source": [
    "dataset.info()"
   ]
  },
  {
   "cell_type": "code",
   "execution_count": 9,
   "id": "c952fed3-5f9d-4661-a4cf-e9ff9a064d87",
   "metadata": {},
   "outputs": [
    {
     "data": {
      "text/plain": [
       "RowNumber          0\n",
       "CustomerId         0\n",
       "Surname            0\n",
       "CreditScore        0\n",
       "Geography          0\n",
       "Gender             0\n",
       "Age                0\n",
       "Tenure             0\n",
       "Balance            0\n",
       "NumOfProducts      0\n",
       "HasCrCard          0\n",
       "IsActiveMember     0\n",
       "EstimatedSalary    0\n",
       "Exited             0\n",
       "dtype: int64"
      ]
     },
     "execution_count": 9,
     "metadata": {},
     "output_type": "execute_result"
    }
   ],
   "source": [
    "dataset.isnull().sum()"
   ]
  },
  {
   "cell_type": "code",
   "execution_count": 10,
   "id": "58574f8b-be0e-4405-919e-28da93d63900",
   "metadata": {},
   "outputs": [
    {
     "data": {
      "text/plain": [
       "Exited\n",
       "0    7963\n",
       "1    2037\n",
       "Name: count, dtype: int64"
      ]
     },
     "execution_count": 10,
     "metadata": {},
     "output_type": "execute_result"
    }
   ],
   "source": [
    "dataset.Exited.value_counts()   #dataset is not looking balanced"
   ]
  },
  {
   "cell_type": "code",
   "execution_count": 70,
   "id": "93188f02-ae14-4d3e-a0be-bfc04d71236d",
   "metadata": {},
   "outputs": [],
   "source": [
    "#Divinding the dataset into independent and dependent features\n",
    "\n",
    "X=dataset.iloc[:,3:13]  #not taking first three cols and last col also\n",
    "y=dataset.iloc[:,13]    #dependent feature (exited)"
   ]
  },
  {
   "cell_type": "code",
   "execution_count": 72,
   "id": "c7f24a33-f9ca-4d80-8252-a533154d5c1a",
   "metadata": {},
   "outputs": [
    {
     "data": {
      "text/html": [
       "<div>\n",
       "<style scoped>\n",
       "    .dataframe tbody tr th:only-of-type {\n",
       "        vertical-align: middle;\n",
       "    }\n",
       "\n",
       "    .dataframe tbody tr th {\n",
       "        vertical-align: top;\n",
       "    }\n",
       "\n",
       "    .dataframe thead th {\n",
       "        text-align: right;\n",
       "    }\n",
       "</style>\n",
       "<table border=\"1\" class=\"dataframe\">\n",
       "  <thead>\n",
       "    <tr style=\"text-align: right;\">\n",
       "      <th></th>\n",
       "      <th>CreditScore</th>\n",
       "      <th>Geography</th>\n",
       "      <th>Gender</th>\n",
       "      <th>Age</th>\n",
       "      <th>Tenure</th>\n",
       "      <th>Balance</th>\n",
       "      <th>NumOfProducts</th>\n",
       "      <th>HasCrCard</th>\n",
       "      <th>IsActiveMember</th>\n",
       "      <th>EstimatedSalary</th>\n",
       "    </tr>\n",
       "  </thead>\n",
       "  <tbody>\n",
       "    <tr>\n",
       "      <th>0</th>\n",
       "      <td>619</td>\n",
       "      <td>France</td>\n",
       "      <td>Female</td>\n",
       "      <td>42</td>\n",
       "      <td>2</td>\n",
       "      <td>0.00</td>\n",
       "      <td>1</td>\n",
       "      <td>1</td>\n",
       "      <td>1</td>\n",
       "      <td>101348.88</td>\n",
       "    </tr>\n",
       "    <tr>\n",
       "      <th>1</th>\n",
       "      <td>608</td>\n",
       "      <td>Spain</td>\n",
       "      <td>Female</td>\n",
       "      <td>41</td>\n",
       "      <td>1</td>\n",
       "      <td>83807.86</td>\n",
       "      <td>1</td>\n",
       "      <td>0</td>\n",
       "      <td>1</td>\n",
       "      <td>112542.58</td>\n",
       "    </tr>\n",
       "    <tr>\n",
       "      <th>2</th>\n",
       "      <td>502</td>\n",
       "      <td>France</td>\n",
       "      <td>Female</td>\n",
       "      <td>42</td>\n",
       "      <td>8</td>\n",
       "      <td>159660.80</td>\n",
       "      <td>3</td>\n",
       "      <td>1</td>\n",
       "      <td>0</td>\n",
       "      <td>113931.57</td>\n",
       "    </tr>\n",
       "    <tr>\n",
       "      <th>3</th>\n",
       "      <td>699</td>\n",
       "      <td>France</td>\n",
       "      <td>Female</td>\n",
       "      <td>39</td>\n",
       "      <td>1</td>\n",
       "      <td>0.00</td>\n",
       "      <td>2</td>\n",
       "      <td>0</td>\n",
       "      <td>0</td>\n",
       "      <td>93826.63</td>\n",
       "    </tr>\n",
       "    <tr>\n",
       "      <th>4</th>\n",
       "      <td>850</td>\n",
       "      <td>Spain</td>\n",
       "      <td>Female</td>\n",
       "      <td>43</td>\n",
       "      <td>2</td>\n",
       "      <td>125510.82</td>\n",
       "      <td>1</td>\n",
       "      <td>1</td>\n",
       "      <td>1</td>\n",
       "      <td>79084.10</td>\n",
       "    </tr>\n",
       "  </tbody>\n",
       "</table>\n",
       "</div>"
      ],
      "text/plain": [
       "   CreditScore Geography  Gender  Age  Tenure    Balance  NumOfProducts  \\\n",
       "0          619    France  Female   42       2       0.00              1   \n",
       "1          608     Spain  Female   41       1   83807.86              1   \n",
       "2          502    France  Female   42       8  159660.80              3   \n",
       "3          699    France  Female   39       1       0.00              2   \n",
       "4          850     Spain  Female   43       2  125510.82              1   \n",
       "\n",
       "   HasCrCard  IsActiveMember  EstimatedSalary  \n",
       "0          1               1        101348.88  \n",
       "1          0               1        112542.58  \n",
       "2          1               0        113931.57  \n",
       "3          0               0         93826.63  \n",
       "4          1               1         79084.10  "
      ]
     },
     "execution_count": 72,
     "metadata": {},
     "output_type": "execute_result"
    }
   ],
   "source": [
    "X.head()"
   ]
  },
  {
   "cell_type": "code",
   "execution_count": 74,
   "id": "b97b4d9a-f1d7-472f-8d1c-f72116958462",
   "metadata": {},
   "outputs": [
    {
     "data": {
      "text/plain": [
       "0    1\n",
       "1    0\n",
       "2    1\n",
       "3    0\n",
       "4    0\n",
       "Name: Exited, dtype: int64"
      ]
     },
     "execution_count": 74,
     "metadata": {},
     "output_type": "execute_result"
    }
   ],
   "source": [
    "y.head()"
   ]
  },
  {
   "cell_type": "code",
   "execution_count": null,
   "id": "62c91366-1e25-4f81-8d30-0484564c9198",
   "metadata": {},
   "outputs": [],
   "source": []
  },
  {
   "cell_type": "markdown",
   "id": "a8c1f178-f36b-47fb-97aa-77c342b068b6",
   "metadata": {},
   "source": [
    "## FEATURE ENGINEERING"
   ]
  },
  {
   "cell_type": "code",
   "execution_count": 78,
   "id": "26b45e37-1fce-429b-8e04-efe1bdd384ee",
   "metadata": {},
   "outputs": [],
   "source": [
    "#so we have two categorical features in dataset which we need to handle in feature engineering"
   ]
  },
  {
   "cell_type": "code",
   "execution_count": 80,
   "id": "94540498-7073-4c3d-be55-8a050a5975af",
   "metadata": {},
   "outputs": [
    {
     "data": {
      "text/plain": [
       "Geography\n",
       "France     5014\n",
       "Germany    2509\n",
       "Spain      2477\n",
       "Name: count, dtype: int64"
      ]
     },
     "execution_count": 80,
     "metadata": {},
     "output_type": "execute_result"
    }
   ],
   "source": [
    "dataset.Geography.value_counts()"
   ]
  },
  {
   "cell_type": "code",
   "execution_count": 82,
   "id": "5e668780-ad12-42e3-b6e2-50f2682bdb72",
   "metadata": {},
   "outputs": [],
   "source": [
    "geography = pd.get_dummies(X.Geography,drop_first=True)   ##converting categorical into int by One-hot encoding"
   ]
  },
  {
   "cell_type": "code",
   "execution_count": 84,
   "id": "34d2ecef-c58f-4cb1-8118-870bb018127d",
   "metadata": {},
   "outputs": [],
   "source": [
    "geography=geography.astype(int)"
   ]
  },
  {
   "cell_type": "code",
   "execution_count": 86,
   "id": "542cfbab-7841-47a3-b8e6-7bec63fd1fc7",
   "metadata": {},
   "outputs": [
    {
     "data": {
      "text/html": [
       "<div>\n",
       "<style scoped>\n",
       "    .dataframe tbody tr th:only-of-type {\n",
       "        vertical-align: middle;\n",
       "    }\n",
       "\n",
       "    .dataframe tbody tr th {\n",
       "        vertical-align: top;\n",
       "    }\n",
       "\n",
       "    .dataframe thead th {\n",
       "        text-align: right;\n",
       "    }\n",
       "</style>\n",
       "<table border=\"1\" class=\"dataframe\">\n",
       "  <thead>\n",
       "    <tr style=\"text-align: right;\">\n",
       "      <th></th>\n",
       "      <th>Germany</th>\n",
       "      <th>Spain</th>\n",
       "    </tr>\n",
       "  </thead>\n",
       "  <tbody>\n",
       "    <tr>\n",
       "      <th>0</th>\n",
       "      <td>0</td>\n",
       "      <td>0</td>\n",
       "    </tr>\n",
       "    <tr>\n",
       "      <th>1</th>\n",
       "      <td>0</td>\n",
       "      <td>1</td>\n",
       "    </tr>\n",
       "    <tr>\n",
       "      <th>2</th>\n",
       "      <td>0</td>\n",
       "      <td>0</td>\n",
       "    </tr>\n",
       "    <tr>\n",
       "      <th>3</th>\n",
       "      <td>0</td>\n",
       "      <td>0</td>\n",
       "    </tr>\n",
       "    <tr>\n",
       "      <th>4</th>\n",
       "      <td>0</td>\n",
       "      <td>1</td>\n",
       "    </tr>\n",
       "    <tr>\n",
       "      <th>...</th>\n",
       "      <td>...</td>\n",
       "      <td>...</td>\n",
       "    </tr>\n",
       "    <tr>\n",
       "      <th>9995</th>\n",
       "      <td>0</td>\n",
       "      <td>0</td>\n",
       "    </tr>\n",
       "    <tr>\n",
       "      <th>9996</th>\n",
       "      <td>0</td>\n",
       "      <td>0</td>\n",
       "    </tr>\n",
       "    <tr>\n",
       "      <th>9997</th>\n",
       "      <td>0</td>\n",
       "      <td>0</td>\n",
       "    </tr>\n",
       "    <tr>\n",
       "      <th>9998</th>\n",
       "      <td>1</td>\n",
       "      <td>0</td>\n",
       "    </tr>\n",
       "    <tr>\n",
       "      <th>9999</th>\n",
       "      <td>0</td>\n",
       "      <td>0</td>\n",
       "    </tr>\n",
       "  </tbody>\n",
       "</table>\n",
       "<p>10000 rows × 2 columns</p>\n",
       "</div>"
      ],
      "text/plain": [
       "      Germany  Spain\n",
       "0           0      0\n",
       "1           0      1\n",
       "2           0      0\n",
       "3           0      0\n",
       "4           0      1\n",
       "...       ...    ...\n",
       "9995        0      0\n",
       "9996        0      0\n",
       "9997        0      0\n",
       "9998        1      0\n",
       "9999        0      0\n",
       "\n",
       "[10000 rows x 2 columns]"
      ]
     },
     "execution_count": 86,
     "metadata": {},
     "output_type": "execute_result"
    }
   ],
   "source": [
    "geography"
   ]
  },
  {
   "cell_type": "code",
   "execution_count": 88,
   "id": "4a892f41-bab6-4c0f-aa73-fac9dd4707a0",
   "metadata": {},
   "outputs": [],
   "source": [
    "gender = pd.get_dummies(X.Gender,drop_first=True)   #converting categorical into int by One-hot encoding"
   ]
  },
  {
   "cell_type": "code",
   "execution_count": 90,
   "id": "0fe704c1-c967-4e70-927d-2ecfd4e5aaf0",
   "metadata": {},
   "outputs": [],
   "source": [
    "gender=gender.astype(int)"
   ]
  },
  {
   "cell_type": "code",
   "execution_count": 92,
   "id": "97fa13d6-8e68-46c7-a2a9-1de9a0ef719f",
   "metadata": {},
   "outputs": [
    {
     "data": {
      "text/html": [
       "<div>\n",
       "<style scoped>\n",
       "    .dataframe tbody tr th:only-of-type {\n",
       "        vertical-align: middle;\n",
       "    }\n",
       "\n",
       "    .dataframe tbody tr th {\n",
       "        vertical-align: top;\n",
       "    }\n",
       "\n",
       "    .dataframe thead th {\n",
       "        text-align: right;\n",
       "    }\n",
       "</style>\n",
       "<table border=\"1\" class=\"dataframe\">\n",
       "  <thead>\n",
       "    <tr style=\"text-align: right;\">\n",
       "      <th></th>\n",
       "      <th>Male</th>\n",
       "    </tr>\n",
       "  </thead>\n",
       "  <tbody>\n",
       "    <tr>\n",
       "      <th>0</th>\n",
       "      <td>0</td>\n",
       "    </tr>\n",
       "    <tr>\n",
       "      <th>1</th>\n",
       "      <td>0</td>\n",
       "    </tr>\n",
       "    <tr>\n",
       "      <th>2</th>\n",
       "      <td>0</td>\n",
       "    </tr>\n",
       "    <tr>\n",
       "      <th>3</th>\n",
       "      <td>0</td>\n",
       "    </tr>\n",
       "    <tr>\n",
       "      <th>4</th>\n",
       "      <td>0</td>\n",
       "    </tr>\n",
       "    <tr>\n",
       "      <th>...</th>\n",
       "      <td>...</td>\n",
       "    </tr>\n",
       "    <tr>\n",
       "      <th>9995</th>\n",
       "      <td>1</td>\n",
       "    </tr>\n",
       "    <tr>\n",
       "      <th>9996</th>\n",
       "      <td>1</td>\n",
       "    </tr>\n",
       "    <tr>\n",
       "      <th>9997</th>\n",
       "      <td>0</td>\n",
       "    </tr>\n",
       "    <tr>\n",
       "      <th>9998</th>\n",
       "      <td>1</td>\n",
       "    </tr>\n",
       "    <tr>\n",
       "      <th>9999</th>\n",
       "      <td>0</td>\n",
       "    </tr>\n",
       "  </tbody>\n",
       "</table>\n",
       "<p>10000 rows × 1 columns</p>\n",
       "</div>"
      ],
      "text/plain": [
       "      Male\n",
       "0        0\n",
       "1        0\n",
       "2        0\n",
       "3        0\n",
       "4        0\n",
       "...    ...\n",
       "9995     1\n",
       "9996     1\n",
       "9997     0\n",
       "9998     1\n",
       "9999     0\n",
       "\n",
       "[10000 rows x 1 columns]"
      ]
     },
     "execution_count": 92,
     "metadata": {},
     "output_type": "execute_result"
    }
   ],
   "source": [
    "gender"
   ]
  },
  {
   "cell_type": "code",
   "execution_count": 94,
   "id": "f89cf081-ba79-4ffb-9c57-4f8d1c6940e6",
   "metadata": {},
   "outputs": [
    {
     "data": {
      "text/html": [
       "<div>\n",
       "<style scoped>\n",
       "    .dataframe tbody tr th:only-of-type {\n",
       "        vertical-align: middle;\n",
       "    }\n",
       "\n",
       "    .dataframe tbody tr th {\n",
       "        vertical-align: top;\n",
       "    }\n",
       "\n",
       "    .dataframe thead th {\n",
       "        text-align: right;\n",
       "    }\n",
       "</style>\n",
       "<table border=\"1\" class=\"dataframe\">\n",
       "  <thead>\n",
       "    <tr style=\"text-align: right;\">\n",
       "      <th></th>\n",
       "      <th>CreditScore</th>\n",
       "      <th>Geography</th>\n",
       "      <th>Gender</th>\n",
       "      <th>Age</th>\n",
       "      <th>Tenure</th>\n",
       "      <th>Balance</th>\n",
       "      <th>NumOfProducts</th>\n",
       "      <th>HasCrCard</th>\n",
       "      <th>IsActiveMember</th>\n",
       "      <th>EstimatedSalary</th>\n",
       "    </tr>\n",
       "  </thead>\n",
       "  <tbody>\n",
       "    <tr>\n",
       "      <th>0</th>\n",
       "      <td>619</td>\n",
       "      <td>France</td>\n",
       "      <td>Female</td>\n",
       "      <td>42</td>\n",
       "      <td>2</td>\n",
       "      <td>0.00</td>\n",
       "      <td>1</td>\n",
       "      <td>1</td>\n",
       "      <td>1</td>\n",
       "      <td>101348.88</td>\n",
       "    </tr>\n",
       "    <tr>\n",
       "      <th>1</th>\n",
       "      <td>608</td>\n",
       "      <td>Spain</td>\n",
       "      <td>Female</td>\n",
       "      <td>41</td>\n",
       "      <td>1</td>\n",
       "      <td>83807.86</td>\n",
       "      <td>1</td>\n",
       "      <td>0</td>\n",
       "      <td>1</td>\n",
       "      <td>112542.58</td>\n",
       "    </tr>\n",
       "    <tr>\n",
       "      <th>2</th>\n",
       "      <td>502</td>\n",
       "      <td>France</td>\n",
       "      <td>Female</td>\n",
       "      <td>42</td>\n",
       "      <td>8</td>\n",
       "      <td>159660.80</td>\n",
       "      <td>3</td>\n",
       "      <td>1</td>\n",
       "      <td>0</td>\n",
       "      <td>113931.57</td>\n",
       "    </tr>\n",
       "    <tr>\n",
       "      <th>3</th>\n",
       "      <td>699</td>\n",
       "      <td>France</td>\n",
       "      <td>Female</td>\n",
       "      <td>39</td>\n",
       "      <td>1</td>\n",
       "      <td>0.00</td>\n",
       "      <td>2</td>\n",
       "      <td>0</td>\n",
       "      <td>0</td>\n",
       "      <td>93826.63</td>\n",
       "    </tr>\n",
       "    <tr>\n",
       "      <th>4</th>\n",
       "      <td>850</td>\n",
       "      <td>Spain</td>\n",
       "      <td>Female</td>\n",
       "      <td>43</td>\n",
       "      <td>2</td>\n",
       "      <td>125510.82</td>\n",
       "      <td>1</td>\n",
       "      <td>1</td>\n",
       "      <td>1</td>\n",
       "      <td>79084.10</td>\n",
       "    </tr>\n",
       "  </tbody>\n",
       "</table>\n",
       "</div>"
      ],
      "text/plain": [
       "   CreditScore Geography  Gender  Age  Tenure    Balance  NumOfProducts  \\\n",
       "0          619    France  Female   42       2       0.00              1   \n",
       "1          608     Spain  Female   41       1   83807.86              1   \n",
       "2          502    France  Female   42       8  159660.80              3   \n",
       "3          699    France  Female   39       1       0.00              2   \n",
       "4          850     Spain  Female   43       2  125510.82              1   \n",
       "\n",
       "   HasCrCard  IsActiveMember  EstimatedSalary  \n",
       "0          1               1        101348.88  \n",
       "1          0               1        112542.58  \n",
       "2          1               0        113931.57  \n",
       "3          0               0         93826.63  \n",
       "4          1               1         79084.10  "
      ]
     },
     "execution_count": 94,
     "metadata": {},
     "output_type": "execute_result"
    }
   ],
   "source": [
    "X.head()"
   ]
  },
  {
   "cell_type": "code",
   "execution_count": 96,
   "id": "8dc01b2c-a720-481b-b65e-9b698dcbc897",
   "metadata": {},
   "outputs": [],
   "source": [
    "X=X.drop(['Geography','Gender'],axis=1)"
   ]
  },
  {
   "cell_type": "code",
   "execution_count": 98,
   "id": "d0c436cc-88ae-4674-991e-9ca665587449",
   "metadata": {},
   "outputs": [
    {
     "data": {
      "text/html": [
       "<div>\n",
       "<style scoped>\n",
       "    .dataframe tbody tr th:only-of-type {\n",
       "        vertical-align: middle;\n",
       "    }\n",
       "\n",
       "    .dataframe tbody tr th {\n",
       "        vertical-align: top;\n",
       "    }\n",
       "\n",
       "    .dataframe thead th {\n",
       "        text-align: right;\n",
       "    }\n",
       "</style>\n",
       "<table border=\"1\" class=\"dataframe\">\n",
       "  <thead>\n",
       "    <tr style=\"text-align: right;\">\n",
       "      <th></th>\n",
       "      <th>CreditScore</th>\n",
       "      <th>Age</th>\n",
       "      <th>Tenure</th>\n",
       "      <th>Balance</th>\n",
       "      <th>NumOfProducts</th>\n",
       "      <th>HasCrCard</th>\n",
       "      <th>IsActiveMember</th>\n",
       "      <th>EstimatedSalary</th>\n",
       "    </tr>\n",
       "  </thead>\n",
       "  <tbody>\n",
       "    <tr>\n",
       "      <th>0</th>\n",
       "      <td>619</td>\n",
       "      <td>42</td>\n",
       "      <td>2</td>\n",
       "      <td>0.00</td>\n",
       "      <td>1</td>\n",
       "      <td>1</td>\n",
       "      <td>1</td>\n",
       "      <td>101348.88</td>\n",
       "    </tr>\n",
       "    <tr>\n",
       "      <th>1</th>\n",
       "      <td>608</td>\n",
       "      <td>41</td>\n",
       "      <td>1</td>\n",
       "      <td>83807.86</td>\n",
       "      <td>1</td>\n",
       "      <td>0</td>\n",
       "      <td>1</td>\n",
       "      <td>112542.58</td>\n",
       "    </tr>\n",
       "    <tr>\n",
       "      <th>2</th>\n",
       "      <td>502</td>\n",
       "      <td>42</td>\n",
       "      <td>8</td>\n",
       "      <td>159660.80</td>\n",
       "      <td>3</td>\n",
       "      <td>1</td>\n",
       "      <td>0</td>\n",
       "      <td>113931.57</td>\n",
       "    </tr>\n",
       "    <tr>\n",
       "      <th>3</th>\n",
       "      <td>699</td>\n",
       "      <td>39</td>\n",
       "      <td>1</td>\n",
       "      <td>0.00</td>\n",
       "      <td>2</td>\n",
       "      <td>0</td>\n",
       "      <td>0</td>\n",
       "      <td>93826.63</td>\n",
       "    </tr>\n",
       "    <tr>\n",
       "      <th>4</th>\n",
       "      <td>850</td>\n",
       "      <td>43</td>\n",
       "      <td>2</td>\n",
       "      <td>125510.82</td>\n",
       "      <td>1</td>\n",
       "      <td>1</td>\n",
       "      <td>1</td>\n",
       "      <td>79084.10</td>\n",
       "    </tr>\n",
       "  </tbody>\n",
       "</table>\n",
       "</div>"
      ],
      "text/plain": [
       "   CreditScore  Age  Tenure    Balance  NumOfProducts  HasCrCard  \\\n",
       "0          619   42       2       0.00              1          1   \n",
       "1          608   41       1   83807.86              1          0   \n",
       "2          502   42       8  159660.80              3          1   \n",
       "3          699   39       1       0.00              2          0   \n",
       "4          850   43       2  125510.82              1          1   \n",
       "\n",
       "   IsActiveMember  EstimatedSalary  \n",
       "0               1        101348.88  \n",
       "1               1        112542.58  \n",
       "2               0        113931.57  \n",
       "3               0         93826.63  \n",
       "4               1         79084.10  "
      ]
     },
     "execution_count": 98,
     "metadata": {},
     "output_type": "execute_result"
    }
   ],
   "source": [
    "X.head()"
   ]
  },
  {
   "cell_type": "code",
   "execution_count": 100,
   "id": "75f30a38-d82f-424e-a042-d9c160225898",
   "metadata": {},
   "outputs": [],
   "source": [
    "## concatenate these variables with dataframe\n",
    "X=pd.concat([X,geography,gender],axis=1)"
   ]
  },
  {
   "cell_type": "code",
   "execution_count": 102,
   "id": "f2e6d90a-5c61-4c61-a44f-b516e66d7dcc",
   "metadata": {},
   "outputs": [
    {
     "data": {
      "text/html": [
       "<div>\n",
       "<style scoped>\n",
       "    .dataframe tbody tr th:only-of-type {\n",
       "        vertical-align: middle;\n",
       "    }\n",
       "\n",
       "    .dataframe tbody tr th {\n",
       "        vertical-align: top;\n",
       "    }\n",
       "\n",
       "    .dataframe thead th {\n",
       "        text-align: right;\n",
       "    }\n",
       "</style>\n",
       "<table border=\"1\" class=\"dataframe\">\n",
       "  <thead>\n",
       "    <tr style=\"text-align: right;\">\n",
       "      <th></th>\n",
       "      <th>CreditScore</th>\n",
       "      <th>Age</th>\n",
       "      <th>Tenure</th>\n",
       "      <th>Balance</th>\n",
       "      <th>NumOfProducts</th>\n",
       "      <th>HasCrCard</th>\n",
       "      <th>IsActiveMember</th>\n",
       "      <th>EstimatedSalary</th>\n",
       "      <th>Germany</th>\n",
       "      <th>Spain</th>\n",
       "      <th>Male</th>\n",
       "    </tr>\n",
       "  </thead>\n",
       "  <tbody>\n",
       "    <tr>\n",
       "      <th>0</th>\n",
       "      <td>619</td>\n",
       "      <td>42</td>\n",
       "      <td>2</td>\n",
       "      <td>0.00</td>\n",
       "      <td>1</td>\n",
       "      <td>1</td>\n",
       "      <td>1</td>\n",
       "      <td>101348.88</td>\n",
       "      <td>0</td>\n",
       "      <td>0</td>\n",
       "      <td>0</td>\n",
       "    </tr>\n",
       "    <tr>\n",
       "      <th>1</th>\n",
       "      <td>608</td>\n",
       "      <td>41</td>\n",
       "      <td>1</td>\n",
       "      <td>83807.86</td>\n",
       "      <td>1</td>\n",
       "      <td>0</td>\n",
       "      <td>1</td>\n",
       "      <td>112542.58</td>\n",
       "      <td>0</td>\n",
       "      <td>1</td>\n",
       "      <td>0</td>\n",
       "    </tr>\n",
       "    <tr>\n",
       "      <th>2</th>\n",
       "      <td>502</td>\n",
       "      <td>42</td>\n",
       "      <td>8</td>\n",
       "      <td>159660.80</td>\n",
       "      <td>3</td>\n",
       "      <td>1</td>\n",
       "      <td>0</td>\n",
       "      <td>113931.57</td>\n",
       "      <td>0</td>\n",
       "      <td>0</td>\n",
       "      <td>0</td>\n",
       "    </tr>\n",
       "    <tr>\n",
       "      <th>3</th>\n",
       "      <td>699</td>\n",
       "      <td>39</td>\n",
       "      <td>1</td>\n",
       "      <td>0.00</td>\n",
       "      <td>2</td>\n",
       "      <td>0</td>\n",
       "      <td>0</td>\n",
       "      <td>93826.63</td>\n",
       "      <td>0</td>\n",
       "      <td>0</td>\n",
       "      <td>0</td>\n",
       "    </tr>\n",
       "    <tr>\n",
       "      <th>4</th>\n",
       "      <td>850</td>\n",
       "      <td>43</td>\n",
       "      <td>2</td>\n",
       "      <td>125510.82</td>\n",
       "      <td>1</td>\n",
       "      <td>1</td>\n",
       "      <td>1</td>\n",
       "      <td>79084.10</td>\n",
       "      <td>0</td>\n",
       "      <td>1</td>\n",
       "      <td>0</td>\n",
       "    </tr>\n",
       "  </tbody>\n",
       "</table>\n",
       "</div>"
      ],
      "text/plain": [
       "   CreditScore  Age  Tenure    Balance  NumOfProducts  HasCrCard  \\\n",
       "0          619   42       2       0.00              1          1   \n",
       "1          608   41       1   83807.86              1          0   \n",
       "2          502   42       8  159660.80              3          1   \n",
       "3          699   39       1       0.00              2          0   \n",
       "4          850   43       2  125510.82              1          1   \n",
       "\n",
       "   IsActiveMember  EstimatedSalary  Germany  Spain  Male  \n",
       "0               1        101348.88        0      0     0  \n",
       "1               1        112542.58        0      1     0  \n",
       "2               0        113931.57        0      0     0  \n",
       "3               0         93826.63        0      0     0  \n",
       "4               1         79084.10        0      1     0  "
      ]
     },
     "execution_count": 102,
     "metadata": {},
     "output_type": "execute_result"
    }
   ],
   "source": [
    "X.head()  #now all features in int"
   ]
  },
  {
   "cell_type": "code",
   "execution_count": 117,
   "id": "71cb4000-a664-4a0e-8306-1c95eae76d8d",
   "metadata": {},
   "outputs": [],
   "source": [
    "#Splitting dataset into Training and Test Set\n",
    "\n",
    "from sklearn.model_selection import train_test_split\n",
    "\n",
    "X_train,X_test,y_train,y_test=train_test_split(X,y,test_size=0.2,random_state=0)  #dataset got splitted "
   ]
  },
  {
   "cell_type": "code",
   "execution_count": 127,
   "id": "afa00d89-ca36-46a9-ac2f-202134d16a60",
   "metadata": {},
   "outputs": [],
   "source": [
    "#feature scaling\n",
    "from sklearn.preprocessing import StandardScaler\n",
    "sc=StandardScaler()\n",
    "X_train=sc.fit_transform(X_train)   #to avoid data lekage\n",
    "X_test=sc.transform(X_test)\n",
    "\n",
    "#Here, sc.fit_transform(X_train) standardizes the training data by computing the mean and standard deviation of the training features, and then scales them. \n",
    "#When you later transform the test data, you use the same statistics learned from the training set to maintain consistency."
   ]
  },
  {
   "cell_type": "markdown",
   "id": "c0e293b6-a415-4140-8050-8b360a494224",
   "metadata": {},
   "source": [
    "What is fit_transform()?\n",
    "\n",
    "fit(): Calculates the necessary statistics (e.g., mean, standard deviation) based on the training data. This is done only on the training set so that future data (e.g., test set) is transformed using the same parameters.\n",
    "\n",
    "transform(): Applies the transformation using the statistics calculated in the fit() step.\n",
    "    \n",
    "fit_transform(): Combines both fit() and transform() into one method for convenience."
   ]
  },
  {
   "cell_type": "code",
   "execution_count": 121,
   "id": "594798f0-6327-4cf2-bb24-b47673a85f52",
   "metadata": {},
   "outputs": [
    {
     "data": {
      "text/plain": [
       "array([[ 0.16958176, -0.46460796,  0.00666099, ..., -0.5698444 ,\n",
       "         1.74309049, -1.09168714],\n",
       "       [-2.30455945,  0.30102557, -1.37744033, ...,  1.75486502,\n",
       "        -0.57369368,  0.91601335],\n",
       "       [-1.19119591, -0.94312892, -1.031415  , ..., -0.5698444 ,\n",
       "        -0.57369368, -1.09168714],\n",
       "       ...,\n",
       "       [ 0.9015152 , -0.36890377,  0.00666099, ..., -0.5698444 ,\n",
       "        -0.57369368,  0.91601335],\n",
       "       [-0.62420521, -0.08179119,  1.39076231, ..., -0.5698444 ,\n",
       "         1.74309049, -1.09168714],\n",
       "       [-0.28401079,  0.87525072, -1.37744033, ...,  1.75486502,\n",
       "        -0.57369368, -1.09168714]])"
      ]
     },
     "execution_count": 121,
     "metadata": {},
     "output_type": "execute_result"
    }
   ],
   "source": [
    "X_train   #got standardized"
   ]
  },
  {
   "cell_type": "code",
   "execution_count": 123,
   "id": "bed1d89b-83e5-4890-b138-4c70930e37b9",
   "metadata": {},
   "outputs": [
    {
     "data": {
      "text/plain": [
       "(8000, 11)"
      ]
     },
     "execution_count": 123,
     "metadata": {},
     "output_type": "execute_result"
    }
   ],
   "source": [
    "X_train.shape"
   ]
  },
  {
   "cell_type": "code",
   "execution_count": 125,
   "id": "5ddca3a1-5060-4fd9-b3f7-ff7cb497222a",
   "metadata": {},
   "outputs": [
    {
     "data": {
      "text/plain": [
       "(2000, 11)"
      ]
     },
     "execution_count": 125,
     "metadata": {},
     "output_type": "execute_result"
    }
   ],
   "source": [
    "X_test.shape"
   ]
  },
  {
   "cell_type": "code",
   "execution_count": null,
   "id": "7851b2a3-f5af-4f07-9a2e-921441416d4a",
   "metadata": {},
   "outputs": [],
   "source": []
  },
  {
   "cell_type": "markdown",
   "id": "6fd617c5-0d75-4bb5-b072-4468928d61b6",
   "metadata": {},
   "source": [
    "## Part 2:  Now let's create ANN Model"
   ]
  },
  {
   "cell_type": "code",
   "execution_count": 148,
   "id": "d1cdcffc-23e4-4e82-93d1-c4855196d6e6",
   "metadata": {},
   "outputs": [],
   "source": [
    "import tensorflow as tf\n",
    "from tensorflow.keras import Sequential  #for creating one block of neural network\n",
    "from tensorflow.keras.layers import Dense, Dropout  #Dense for creating neurons for different layers\n",
    "from tensorflow.keras.layers import LeakyReLU,ReLU,PReLU,ELU  #activation functions \n"
   ]
  },
  {
   "cell_type": "code",
   "execution_count": 150,
   "id": "de959f68-a186-4d54-98a1-bb0cd5001fc6",
   "metadata": {},
   "outputs": [],
   "source": [
    "#Lets intialize the ANN Model\n",
    "classifier=Sequential()"
   ]
  },
  {
   "cell_type": "code",
   "execution_count": 199,
   "id": "49a8edf8-da32-4672-bcc8-5e50533822ce",
   "metadata": {},
   "outputs": [],
   "source": [
    "#Adding the input layer \n",
    "classifier.add(Dense(units=11,activation='relu')) #Dense is used to create layers(the neurons) and units=11 means total 11 neurons"
   ]
  },
  {
   "cell_type": "code",
   "execution_count": 201,
   "id": "9ddce109-8ee7-4615-9106-0a5652c35577",
   "metadata": {},
   "outputs": [],
   "source": [
    "#adding the first hidden layer\n",
    "classifier.add(Dense(units=7,activation='relu'))\n",
    "classifier.add(Dropout(0.2))  #20% neurons will be dead while trainig"
   ]
  },
  {
   "cell_type": "code",
   "execution_count": 203,
   "id": "a9f96550-ff60-485b-836b-dc046037632b",
   "metadata": {},
   "outputs": [],
   "source": [
    "#adding the second hidden layer\n",
    "classifier.add(Dense(units=6,activation='relu'))\n",
    "classifier.add(Dropout(0.3))  #30% neurons will be dead while trainig"
   ]
  },
  {
   "cell_type": "code",
   "execution_count": 205,
   "id": "778d2168-6777-4aac-92d4-8e878e9b922d",
   "metadata": {},
   "outputs": [],
   "source": [
    " #adding the output layer\n",
    "classifier.add(Dense(units=1,activation='sigmoid'))"
   ]
  },
  {
   "cell_type": "code",
   "execution_count": 207,
   "id": "c7377806-872b-41b8-a81f-8616f4adb45b",
   "metadata": {},
   "outputs": [],
   "source": [
    "#Compile the Model\n",
    "classifier.compile(optimizer='adam',\n",
    "              loss='binary_crossentropy',\n",
    "              metrics=['accuracy'])\n",
    "#accuracy, to evaluate the model performance during training."
   ]
  },
  {
   "cell_type": "code",
   "execution_count": 209,
   "id": "3057cf01-0efd-478d-98f5-304aa5b64ee4",
   "metadata": {},
   "outputs": [],
   "source": [
    "#early stopping means if my val_loss not improves then we will be stopping the epochs over there\n",
    "import tensorflow as tf\n",
    "early_stopping=tf.keras.callbacks.EarlyStopping(\n",
    "    monitor=\"val_loss\",\n",
    "    min_delta=0,\n",
    "    patience=0,\n",
    "    verbose=0,\n",
    "    mode=\"auto\",\n",
    "    baseline=None,\n",
    "    restore_best_weights=False,\n",
    "    start_from_epoch=0,\n",
    ")"
   ]
  },
  {
   "cell_type": "code",
   "execution_count": 211,
   "id": "c18e9071-15d0-4577-ad81-8a1e56fe41c4",
   "metadata": {},
   "outputs": [
    {
     "name": "stdout",
     "output_type": "stream",
     "text": [
      "Epoch 1/1000\n",
      "\u001b[1m800/800\u001b[0m \u001b[32m━━━━━━━━━━━━━━━━━━━━\u001b[0m\u001b[37m\u001b[0m \u001b[1m13s\u001b[0m 4ms/step - accuracy: 0.8081 - loss: 0.5258 - val_accuracy: 0.8255 - val_loss: 0.3717\n",
      "Epoch 2/1000\n",
      "\u001b[1m800/800\u001b[0m \u001b[32m━━━━━━━━━━━━━━━━━━━━\u001b[0m\u001b[37m\u001b[0m \u001b[1m3s\u001b[0m 4ms/step - accuracy: 0.8359 - loss: 0.3924 - val_accuracy: 0.8560 - val_loss: 0.3567\n",
      "Epoch 3/1000\n",
      "\u001b[1m800/800\u001b[0m \u001b[32m━━━━━━━━━━━━━━━━━━━━\u001b[0m\u001b[37m\u001b[0m \u001b[1m3s\u001b[0m 4ms/step - accuracy: 0.8407 - loss: 0.3950 - val_accuracy: 0.8590 - val_loss: 0.3615\n"
     ]
    }
   ],
   "source": [
    "# Train the model\n",
    "model_history = classifier.fit(X_train, y_train, epochs=1000, batch_size=10, validation_data=(X_test, y_test),callbacks=early_stopping)\n",
    "#early stopping means if my val_loss not improves then it will be stopping the epochs over there automatically"
   ]
  },
  {
   "cell_type": "code",
   "execution_count": 212,
   "id": "cb995e84-204e-4a4d-80da-9ecb103c740e",
   "metadata": {},
   "outputs": [],
   "source": [
    "#so after 3 epochs we got the best fit and best accuracy and best min  validation loss  and it got stopped automatically"
   ]
  },
  {
   "cell_type": "code",
   "execution_count": 213,
   "id": "5e662767-e36e-42c3-86e7-f6e2138eceed",
   "metadata": {},
   "outputs": [
    {
     "data": {
      "text/plain": [
       "dict_keys(['accuracy', 'loss', 'val_accuracy', 'val_loss'])"
      ]
     },
     "execution_count": 213,
     "metadata": {},
     "output_type": "execute_result"
    }
   ],
   "source": [
    "model_history.history.keys()"
   ]
  },
  {
   "cell_type": "code",
   "execution_count": 214,
   "id": "b1c7dce9-65fb-4ca5-b75b-2ccf5be74de4",
   "metadata": {},
   "outputs": [
    {
     "name": "stdout",
     "output_type": "stream",
     "text": [
      "\u001b[1m63/63\u001b[0m \u001b[32m━━━━━━━━━━━━━━━━━━━━\u001b[0m\u001b[37m\u001b[0m \u001b[1m1s\u001b[0m 7ms/step\n"
     ]
    }
   ],
   "source": [
    "#Testing or evaluating the model\n",
    "\n",
    "#Predicting the test set results\n",
    "y_pred = classifier.predict(X_test)\n",
    "y_pred=(y_pred>=0.5)"
   ]
  },
  {
   "cell_type": "code",
   "execution_count": 215,
   "id": "64ae2c73-331f-4d33-b499-72acd31c8405",
   "metadata": {},
   "outputs": [
    {
     "data": {
      "text/plain": [
       "array([[False],\n",
       "       [False],\n",
       "       [False],\n",
       "       ...,\n",
       "       [False],\n",
       "       [False],\n",
       "       [False]])"
      ]
     },
     "execution_count": 215,
     "metadata": {},
     "output_type": "execute_result"
    }
   ],
   "source": [
    "y_pred"
   ]
  },
  {
   "cell_type": "code",
   "execution_count": 216,
   "id": "afea3e5e-0f3c-41e3-b893-41f0fb885837",
   "metadata": {},
   "outputs": [],
   "source": [
    "#Calculate the accuracy score\n",
    "\n",
    "from sklearn.metrics import accuracy_score\n",
    "score=accuracy_score(y_pred,y_test)"
   ]
  },
  {
   "cell_type": "code",
   "execution_count": 217,
   "id": "359c6eed-cc33-449c-aac9-3bd2ec273a60",
   "metadata": {},
   "outputs": [
    {
     "data": {
      "text/plain": [
       "0.859"
      ]
     },
     "execution_count": 217,
     "metadata": {},
     "output_type": "execute_result"
    }
   ],
   "source": [
    "score  #this the accuracy of our model "
   ]
  },
  {
   "cell_type": "code",
   "execution_count": 218,
   "id": "141e3ba7-7f37-4d7f-8f31-f44c65476222",
   "metadata": {},
   "outputs": [
    {
     "data": {
      "text/plain": [
       "[array([[-0.15045008, -0.06844289, -0.05446208,  0.09899326, -0.51348484,\n",
       "          0.19525567,  0.42643765,  0.1612222 , -0.11428823, -0.54919416,\n",
       "          0.15183207],\n",
       "        [-0.34767607, -0.6005198 ,  0.5186709 ,  0.68903106, -0.2924157 ,\n",
       "         -1.1936593 , -0.00894766,  2.0346973 ,  0.18878196,  1.1078634 ,\n",
       "          0.42848608],\n",
       "        [-0.36648598,  0.18921119,  0.11752292, -0.08316278, -0.5786493 ,\n",
       "         -0.6234558 , -0.82115   , -0.45606568, -0.1098296 , -0.37247723,\n",
       "          0.30358657],\n",
       "        [ 1.7031143 ,  0.63606006,  0.23000649, -1.133065  , -0.64386034,\n",
       "         -0.6739249 ,  0.074344  ,  0.37250403,  1.3324108 , -0.86679417,\n",
       "         -0.73787314],\n",
       "        [-0.13926457, -0.27201506,  1.7418886 , -1.1855439 , -0.5251962 ,\n",
       "          1.0084344 , -0.8693175 , -0.43418247,  1.0910137 , -2.0822663 ,\n",
       "          0.34126428],\n",
       "        [ 0.17504863, -0.6021081 ,  0.00624143,  0.1443235 , -0.47779176,\n",
       "          0.55011296,  0.4460598 , -0.31906265, -0.0021095 , -0.24104387,\n",
       "          0.5548859 ],\n",
       "        [ 0.20546472, -1.0981333 ,  0.18734623, -1.1387883 , -0.1134721 ,\n",
       "          0.39988208, -0.05852458,  0.08215882, -0.3364241 , -0.39653698,\n",
       "          0.71244663],\n",
       "        [ 0.68565124, -0.41815293,  0.1430056 ,  0.01781036, -0.1478781 ,\n",
       "         -0.08858793,  0.03333159, -0.29658747,  0.18746002,  0.03680265,\n",
       "          0.27037707],\n",
       "        [ 0.13475977, -1.7380114 ,  0.7138908 ,  0.859433  ,  1.0182796 ,\n",
       "         -0.64347696, -0.99522895,  0.4581294 , -1.4551692 ,  0.44365075,\n",
       "         -0.6424092 ],\n",
       "        [-0.83520687,  0.46233675,  0.18651   ,  0.18967599, -0.6548857 ,\n",
       "         -0.75811124, -0.75989455, -0.00774823,  0.06060605, -0.23449248,\n",
       "          0.2326708 ],\n",
       "        [-0.08105401,  0.08309972,  0.09227026,  0.2775901 ,  0.46801934,\n",
       "          0.246482  ,  0.7608955 , -0.03805508, -0.02630886,  0.43324077,\n",
       "          1.0315887 ]], dtype=float32),\n",
       " array([-1.2451543 , -0.08582776, -1.528726  ,  0.49921575,  0.87100846,\n",
       "         0.3677109 , -0.3320352 , -0.5557509 , -0.9825247 , -0.19370523,\n",
       "         0.7065211 ], dtype=float32),\n",
       " array([[-1.0429281 ,  0.09682128,  0.4579737 ,  0.47157174,  1.0466081 ,\n",
       "         -1.0416466 , -0.00600928],\n",
       "        [ 0.6089533 , -0.99973744,  0.38637137, -0.06218781, -2.9697866 ,\n",
       "          0.47901863, -1.568086  ],\n",
       "        [ 1.1331564 ,  0.90974104, -0.03506727,  0.60789317, -0.30860257,\n",
       "          1.3487767 , -0.26524657],\n",
       "        [-0.9066796 ,  0.6300538 , -0.23551472,  0.7202953 , -0.0416777 ,\n",
       "          0.84518397, -1.1216824 ],\n",
       "        [ 0.60615164, -0.5010649 , -0.7855968 ,  0.3792015 , -0.5163666 ,\n",
       "         -0.6062453 , -1.069457  ],\n",
       "        [ 1.6029018 ,  0.33206686, -0.05949855,  0.5838654 , -0.75191575,\n",
       "          0.25197527, -1.2930619 ],\n",
       "        [ 0.5027895 , -0.4632761 , -0.32825875, -0.07659695, -0.8270461 ,\n",
       "          0.13274115, -1.1306652 ],\n",
       "        [ 1.0416338 ,  0.2458072 , -0.93401295, -0.53349924,  0.46691853,\n",
       "         -0.26691523,  0.94593275],\n",
       "        [-0.5087555 ,  1.0806353 , -0.2771196 ,  0.4296114 , -0.37352613,\n",
       "          0.6586017 , -1.0542686 ],\n",
       "        [-0.46998274,  0.7786517 ,  0.20843188, -0.27107894, -1.4029888 ,\n",
       "         -0.37539685,  0.7530697 ],\n",
       "        [ 0.9154409 ,  0.19348238,  0.23537335,  0.37068614,  0.54283756,\n",
       "         -0.22581409,  1.3434079 ]], dtype=float32),\n",
       " array([ 0.17716138,  0.2744147 ,  1.6887457 ,  0.56173325, -0.6314245 ,\n",
       "        -1.7917441 , -1.014479  ], dtype=float32),\n",
       " array([[ 0.20938027, -5.79871   ,  0.11484325,  0.37909552,  0.39369032,\n",
       "          0.53387487],\n",
       "        [-0.3099142 , -0.55526996,  0.01207999, -0.33267498,  0.66548365,\n",
       "         -0.21771248],\n",
       "        [ 0.7286651 ,  0.35411003, -0.44740763,  0.37633696, -0.77922535,\n",
       "          0.10143484],\n",
       "        [ 0.7456837 ,  0.21321945,  0.43681395,  0.66670686, -0.17526415,\n",
       "         -0.57143337],\n",
       "        [-0.10904737, -6.5569763 , -1.5122647 , -0.28841385, -4.3679237 ,\n",
       "          2.3457527 ],\n",
       "        [-0.64671445, -0.0115116 ,  1.6511347 , -0.2057374 ,  0.78657514,\n",
       "         -2.801634  ],\n",
       "        [-0.61713886, -6.6274924 ,  0.12405106, -1.0944991 , -5.551006  ,\n",
       "          1.0665466 ]], dtype=float32),\n",
       " array([ 0.7594051 ,  0.6173727 ,  0.26284948,  0.79037935, -0.35311592,\n",
       "        -0.8567132 ], dtype=float32),\n",
       " array([[-0.6040525 ],\n",
       "        [ 1.4101756 ],\n",
       "        [ 0.24725795],\n",
       "        [-0.622827  ],\n",
       "        [ 1.047413  ],\n",
       "        [-0.49815652]], dtype=float32),\n",
       " array([0.19985951], dtype=float32),\n",
       " array([[-0.24149722, -0.02390856, -0.7674931 ,  0.3948607 ,  0.9312836 ,\n",
       "          0.5400765 ,  0.8889617 ]], dtype=float32),\n",
       " array([ 0.        ,  0.        ,  0.        , -0.02144901, -0.01581738,\n",
       "        -0.0014879 , -0.03584715], dtype=float32),\n",
       " array([[-0.6658743 , -0.3370512 , -0.2550019 ,  0.34614313, -0.63139987,\n",
       "          0.4162104 ],\n",
       "        [-0.57168555,  0.08347082, -0.273727  ,  0.4808761 , -0.61715853,\n",
       "         -0.1967358 ],\n",
       "        [ 0.35922444, -0.38568214, -0.58285236,  0.5774989 ,  0.6326045 ,\n",
       "          0.2985909 ],\n",
       "        [-0.0661917 , -0.43760926, -0.0916052 ,  0.8927803 ,  0.13842149,\n",
       "         -0.34992683],\n",
       "        [ 0.23785686, -0.44500706,  0.4906408 ,  0.35918587,  0.36789235,\n",
       "         -0.02572972],\n",
       "        [ 0.38696137, -0.1849229 , -0.21942191,  0.53663474,  0.83639723,\n",
       "         -0.18632627],\n",
       "        [ 0.4104499 , -0.20696345,  0.5837522 ,  0.03342409,  0.330836  ,\n",
       "          0.14936468]], dtype=float32),\n",
       " array([ 0.00249394,  0.        , -0.01839624, -0.00963182,  0.0004319 ,\n",
       "        -0.03692732], dtype=float32),\n",
       " array([[-0.12408768,  0.23879902, -0.09929789,  0.47483113, -0.63087356,\n",
       "          0.6234647 , -0.4731034 , -0.48158467,  0.10770127, -0.25253618,\n",
       "         -0.32083282],\n",
       "        [-0.56555253,  0.38680506, -0.49633706,  0.5697943 , -0.48200488,\n",
       "          0.54476213, -0.35888845, -0.42430288,  0.5349066 ,  0.23274344,\n",
       "          0.31112546],\n",
       "        [-0.4429113 , -0.4945771 ,  0.54149693,  0.17399672, -0.37835437,\n",
       "          0.06035381, -0.5207996 , -0.513157  ,  0.34716308,  0.36960962,\n",
       "         -0.08636849],\n",
       "        [-0.50507003, -0.5290828 ,  0.3691882 ,  0.11467686, -0.04048895,\n",
       "         -0.09085031, -0.16903329, -0.4583366 ,  0.7930973 , -0.3228601 ,\n",
       "         -0.12022443],\n",
       "        [-0.57775146, -0.58957344,  0.18461968, -0.28465408, -0.45388275,\n",
       "         -0.0343642 , -0.16035348, -0.01957712,  0.12826917,  0.72385824,\n",
       "          0.72797966],\n",
       "        [ 0.25017026,  0.5025979 , -0.45110604, -0.20220807, -0.36900386,\n",
       "         -0.14122598, -0.09268713, -0.3921825 , -0.09821925, -0.33196938,\n",
       "          0.69112843]], dtype=float32),\n",
       " array([ 0.18769535,  0.07088628,  0.00719835, -0.0028759 ,  0.20366254,\n",
       "         0.09003927,  0.        ,  0.17909451,  0.07405653, -0.00080267,\n",
       "        -0.06907269], dtype=float32),\n",
       " array([[ 0.57901627,  0.7082396 , -0.3019497 ,  0.7168988 ,  0.19499235,\n",
       "          0.18980214,  0.18909563],\n",
       "        [-0.04341956, -0.08229381, -0.07507329, -0.09594028,  0.07571594,\n",
       "          0.59310603, -0.52041364],\n",
       "        [-0.04507375, -0.5306615 ,  0.62820584, -0.0095797 , -0.15784766,\n",
       "         -0.7487749 ,  0.33101434],\n",
       "        [-0.57265055,  0.1276209 , -0.30789933, -0.45186564,  0.28902745,\n",
       "         -0.7603921 ,  0.57833695],\n",
       "        [ 0.53581256,  0.04095094, -0.02804296,  0.8015496 , -0.51007754,\n",
       "          0.47581652, -0.3711038 ],\n",
       "        [ 0.46506634,  0.2551743 , -0.1856173 ,  0.16465598,  0.43211594,\n",
       "         -0.19633746,  0.60991275],\n",
       "        [ 0.0851022 , -0.08280811, -0.21202222,  0.36759514, -0.37019783,\n",
       "          0.23788631, -0.1846331 ],\n",
       "        [ 0.60724026, -0.14137305, -0.29340145,  0.7653297 , -0.37468585,\n",
       "          0.43834147,  0.06309206],\n",
       "        [-0.03844512, -0.01721955,  0.33503807, -0.1817753 ,  0.602775  ,\n",
       "          0.13340709,  0.54219174],\n",
       "        [-0.6844978 , -0.12421396,  0.14581957, -0.2732958 , -0.2693256 ,\n",
       "         -0.2112229 ,  0.1306353 ],\n",
       "        [-0.2916395 , -0.25943726,  0.35966486, -0.0476354 ,  0.51203245,\n",
       "          0.12401754,  0.7418496 ]], dtype=float32),\n",
       " array([ 0.117758  ,  0.11104424,  0.08327398,  0.04404921,  0.02037618,\n",
       "         0.01816955, -0.08357802], dtype=float32),\n",
       " array([[-0.0458123 , -0.09760468,  0.5053972 ,  0.6230296 , -0.14991449,\n",
       "         -0.1731183 ],\n",
       "        [ 0.86557484, -0.11931039, -0.21434   ,  0.16952507, -0.20573182,\n",
       "         -0.04741926],\n",
       "        [-0.22402358,  0.6780905 , -0.31203413, -0.4401243 ,  0.2114623 ,\n",
       "         -0.24429247],\n",
       "        [ 0.44291848,  0.26325178,  0.8331641 ,  0.04513415, -0.6322297 ,\n",
       "         -0.17019553],\n",
       "        [-0.71129173, -0.386654  , -0.21114914, -0.236169  , -0.56552076,\n",
       "          0.94086856],\n",
       "        [ 0.8146483 , -0.5357759 , -0.22296871,  0.84813213, -0.6145582 ,\n",
       "         -0.35984963],\n",
       "        [-0.523779  ,  0.40815857, -0.7094685 , -0.19168861, -0.1790333 ,\n",
       "          0.55156475]], dtype=float32),\n",
       " array([ 0.18829902, -0.167364  ,  0.27748   ,  0.21935417,  0.03737069,\n",
       "         0.01248049], dtype=float32),\n",
       " array([[-1.0322391 ],\n",
       "        [ 0.67604756],\n",
       "        [-0.92946374],\n",
       "        [-0.93885463],\n",
       "        [ 0.6642762 ],\n",
       "        [ 0.47804877]], dtype=float32),\n",
       " array([-0.5092189], dtype=float32)]"
      ]
     },
     "execution_count": 218,
     "metadata": {},
     "output_type": "execute_result"
    }
   ],
   "source": [
    "#get the weights for each input which we are passing\n",
    "classifier.get_weights()"
   ]
  },
  {
   "cell_type": "code",
   "execution_count": null,
   "id": "39746631-bc80-4ec6-8f5f-5bdd39dce891",
   "metadata": {},
   "outputs": [],
   "source": []
  },
  {
   "cell_type": "code",
   "execution_count": null,
   "id": "7cf25029-ba88-4d95-bed1-7545bb53c34f",
   "metadata": {},
   "outputs": [],
   "source": []
  }
 ],
 "metadata": {
  "kernelspec": {
   "display_name": "Python 3 (ipykernel)",
   "language": "python",
   "name": "python3"
  },
  "language_info": {
   "codemirror_mode": {
    "name": "ipython",
    "version": 3
   },
   "file_extension": ".py",
   "mimetype": "text/x-python",
   "name": "python",
   "nbconvert_exporter": "python",
   "pygments_lexer": "ipython3",
   "version": "3.12.4"
  }
 },
 "nbformat": 4,
 "nbformat_minor": 5
}
